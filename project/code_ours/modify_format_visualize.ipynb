{
 "cells": [
  {
   "cell_type": "code",
   "execution_count": 2,
   "metadata": {},
   "outputs": [],
   "source": [
    "import sys\n",
    "sys.path.append(\"..\")\n",
    "sys.path.append(\"../nl4opt-subtask2-baseline\")\n",
    "\n",
    "import parsers\n",
    "import jsonlines\n",
    "import prettyprinter as pp\n",
    "\n",
    "pp.install_extras(exclude=['python', 'django'])"
   ]
  },
  {
   "cell_type": "code",
   "execution_count": 7,
   "metadata": {},
   "outputs": [
    {
     "name": "stdout",
     "output_type": "stream",
     "text": [
      "minimize\n",
      "A hotel employs cleaners and receptionists. Cleaners earn $500 per week and receptionists earn $350 per week. The hotel requires a minimum of 100 workers of whom at least 20 must be receptionists. To keep the hotel clean and running smoothly, the number of receptionists should be at least a third of the number of cleaners. The hotel wants to keep the weekly wage bill below $30000. Formulate a LP to minimize the wage bill.\n",
      "parsers.ProblemFormulation(\n",
      "    objective=parsers.ObjectiveDeclaration(\n",
      "        direction='minimize',\n",
      "        terms={\n",
      "            'Cleaners': parsers.Term(name='Cleaners', index=0, value=500.0),\n",
      "            'receptionists': parsers.Term(\n",
      "                name='receptionists',\n",
      "                index=1,\n",
      "                value=350.0\n",
      "            )\n",
      "        },\n",
      "        entities={\n",
      "            'cleaners': 0,\n",
      "            'receptionists': 1,\n",
      "            'Cleaners': 0\n",
      "        },\n",
      "        name='wage bill'\n",
      "    ),\n",
      "    constraints=[\n",
      "        parsers.ConstraintDeclaration(\n",
      "            direction='minimum',\n",
      "            terms=collections.OrderedDict([]),\n",
      "            entities={\n",
      "                'cleaners': 0,\n",
      "                'receptionists': 1,\n",
      "                'Cleaners': 0\n",
      "            },\n",
      "            type='[SUM_CONSTRAINT]',\n",
      "            limit=100.0,\n",
      "            operator='GREATER_OR_EQUAL'\n",
      "        ),\n",
      "        parsers.ConstraintDeclaration(\n",
      "            direction='at least',\n",
      "            terms=collections.OrderedDict([\n",
      "                ('receptionists', parsers.Term(name='receptionists', index=1))\n",
      "            ]),\n",
      "            entities={\n",
      "                'cleaners': 0,\n",
      "                'receptionists': 1,\n",
      "                'Cleaners': 0\n",
      "            },\n",
      "            type='[LOWER_BOUND]',\n",
      "            limit=20.0,\n",
      "            operator='GREATER_OR_EQUAL'\n",
      "        ),\n",
      "        parsers.ConstraintDeclaration(\n",
      "            direction='at least',\n",
      "            terms=collections.OrderedDict([\n",
      "                (\n",
      "                    'cleaners',\n",
      "                    parsers.Term(\n",
      "                        name='cleaners',\n",
      "                        index=0,\n",
      "                        value=0.3333333333333333\n",
      "                    )\n",
      "                ),\n",
      "                ('receptionists', parsers.Term(name='receptionists', index=1))\n",
      "            ]),\n",
      "            entities={\n",
      "                'cleaners': 0,\n",
      "                'receptionists': 1,\n",
      "                'Cleaners': 0\n",
      "            },\n",
      "            type='[XBY_CONSTRAINT]',\n",
      "            limit=0,\n",
      "            operator='GREATER_OR_EQUAL'\n",
      "        ),\n",
      "        parsers.ConstraintDeclaration(\n",
      "            direction='below',\n",
      "            terms=collections.OrderedDict([\n",
      "                (\n",
      "                    'Cleaners',\n",
      "                    parsers.Term(name='Cleaners', index=0, value=500.0)\n",
      "                ),\n",
      "                (\n",
      "                    'receptionists',\n",
      "                    parsers.Term(name='receptionists', index=1, value=350.0)\n",
      "                )\n",
      "            ]),\n",
      "            entities={\n",
      "                'cleaners': 0,\n",
      "                'receptionists': 1,\n",
      "                'Cleaners': 0\n",
      "            },\n",
      "            type='[LINEAR_CONSTRAINT]',\n",
      "            limit=30000.0,\n",
      "            operator='LESS_OR_EQUAL'\n",
      "        )\n",
      "    ],\n",
      "    entities={\n",
      "        'cleaners': 0,\n",
      "        'receptionists': 1,\n",
      "        'Cleaners': 0\n",
      "    }\n",
      ")\n",
      "cleaners 0\n",
      "receptionists 1\n",
      "Cleaners 0\n"
     ]
    }
   ],
   "source": [
    "json_parser = parsers.JSONFormulationParser()\n",
    "xml_parser = parsers.ModelOutputXMLParser()\n",
    "# regular test pipeline of a few examples\n",
    "with jsonlines.open('./data/train.jsonl') as reader:\n",
    "    true_formulations = []\n",
    "\n",
    "    for i, line in enumerate(reader.iter()):\n",
    "        true_formulation = json_parser.parse(line)\n",
    "        true_formulations.append(true_formulation)\n",
    "        # make sure you use the order mapping from the ground truth (true_formulation.entities)\n",
    "        if i == 0:\n",
    "            print(line[list(line.keys())[0]]['obj_declaration']['direction'])\n",
    "            print(line[list(line.keys())[0]]['document'])\n",
    "pp.pprint(true_formulations[0])\n",
    "\n",
    "for entity in true_formulations[0].entities:\n",
    "    print(entity, true_formulations[0].entities[entity])"
   ]
  },
  {
   "cell_type": "markdown",
   "metadata": {},
   "source": [
    "# json to canonical form"
   ]
  },
  {
   "cell_type": "code",
   "execution_count": 4,
   "metadata": {},
   "outputs": [
    {
     "name": "stdout",
     "output_type": "stream",
     "text": [
      "CanonicalFormulation(objective=array([0.3, 0.1]), constraints=array([[ 1.0e+00,  1.0e+00,  5.0e+04],\n",
      "       [-0.0e+00, -1.0e+00, -1.0e+04],\n",
      "       [ 2.4e+01,  2.5e+01, -0.0e+00]]))\n",
      "[0.3 0.1]\n",
      "[[ 1.0e+00  1.0e+00  5.0e+04]\n",
      " [-0.0e+00 -1.0e+00 -1.0e+04]\n",
      " [ 2.4e+01  2.5e+01 -0.0e+00]]\n"
     ]
    }
   ],
   "source": [
    "t1 = parsers.convert_to_canonical(true_formulations[1])\n",
    "print(t1.objective)\n",
    "print(t1.constraints)"
   ]
  },
  {
   "cell_type": "markdown",
   "metadata": {},
   "source": [
    "# canonical form to nature language"
   ]
  },
  {
   "cell_type": "code",
   "execution_count": 5,
   "metadata": {},
   "outputs": [
    {
     "name": "stdout",
     "output_type": "stream",
     "text": [
      "var_num = 2\n",
      "minimize:\n",
      "350.0x_0 + 75.0x_1\n",
      "subject to:\n",
      "8.0x_0 + 2.0x_1 <= 500.0\n",
      "0.7x_0 - 0.3x_1 <= 0.0\n",
      "1000.0x_0 + 150.0x_1 <= 20000.0\n",
      "\n"
     ]
    }
   ],
   "source": [
    "var_num = max(len(t1.objective), len(t1.constraints[0])- 1)\n",
    "print(f\"{var_num = }\")\n",
    "\n",
    "def format(var_id, coef):\n",
    "    ans = \"\"\n",
    "    if var_id == 0:\n",
    "        ans = f\"{coef}x_{var_id}\"\n",
    "        return ans\n",
    "\n",
    "    if coef < 0:\n",
    "        ans += f\" - {-coef}x_{var_id}\"\n",
    "    else:\n",
    "        ans += f\" + {coef}x_{var_id}\"\n",
    "    return ans\n",
    "\n",
    "# objective function\n",
    "output = \"minimize:\\n\"\n",
    "\n",
    "for i, coef in enumerate(t1.objective):\n",
    "    coef = round(coef, 2)\n",
    "    # -0.0 -> 0.0\n",
    "    if coef == -0.0:\n",
    "        coef = 0.0\n",
    "\n",
    "    output += format(i, coef)\n",
    "\n",
    "# constrains\n",
    "output += \"\\nsubject to:\\n\"\n",
    "\n",
    "for constraint in t1.constraints:\n",
    "    for i, coef in enumerate(constraint):\n",
    "        coef = round(coef, 2)\n",
    "        # -0.0 -> 0.0\n",
    "        if coef == -0.0:\n",
    "            coef = 0.0\n",
    "\n",
    "        if i <= len(constraint) - 2:\n",
    "            output += format(i, coef)\n",
    "        else:\n",
    "            output += f\" <= {coef}\\n\"\n",
    "\n",
    "print(output)"
   ]
  }
 ],
 "metadata": {
  "kernelspec": {
   "display_name": "SI151A",
   "language": "python",
   "name": "python3"
  },
  "language_info": {
   "codemirror_mode": {
    "name": "ipython",
    "version": 3
   },
   "file_extension": ".py",
   "mimetype": "text/x-python",
   "name": "python",
   "nbconvert_exporter": "python",
   "pygments_lexer": "ipython3",
   "version": "3.10.16"
  }
 },
 "nbformat": 4,
 "nbformat_minor": 2
}
